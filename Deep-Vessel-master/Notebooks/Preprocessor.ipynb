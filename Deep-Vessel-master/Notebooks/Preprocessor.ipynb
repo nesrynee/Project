{
 "cells": [
  {
   "cell_type": "code",
   "execution_count": 1,
   "metadata": {
    "collapsed": true
   },
   "outputs": [],
   "source": [
    "import numpy as np\n",
    "import pandas as pd\n",
    "from skimage import io\n",
    "from skimage.util import img_as_float, img_as_ubyte\n",
    "import os\n",
    "import glob\n",
    "import time\n",
    "import sys\n",
    "import argparse"
   ]
  },
  {
   "cell_type": "code",
   "execution_count": 2,
   "metadata": {
    "collapsed": true
   },
   "outputs": [],
   "source": [
    "def get_path(directory):\n",
    "    \"\"\" Gets the filenames of all training, mask and ground truth images in the given \n",
    "        directory \n",
    "        Args:\n",
    "            directory: The path to the root folder\n",
    "        Output:\n",
    "            imgs: List of paths to files containing images\n",
    "            mask: List of paths to files containing masks of the images\n",
    "            gt:   List of paths to files containing corresponding ground truth images\n",
    "    \"\"\"\n",
    "    imgs = glob.glob(directory + '/images/*.tif')\n",
    "    imgs.sort()\n",
    "    #a = [x.split('/')[-1].split('.')[0] for x in train]\n",
    "    \n",
    "    mask = glob.glob(directory + '/mask/*.gif')\n",
    "    mask.sort()\n",
    "    #b = [x.split('/')[-1].split('.')[0] for x in mask]\n",
    "    \n",
    "    gt = glob.glob(directory + '/1st_manual/*.gif')\n",
    "    gt.sort()\n",
    "    #c = [x.split('/')[-1].split('.')[0] for x in gt]\n",
    "    \n",
    "    return map(os.path.abspath, imgs), map(os.path.abspath, mask), map(os.path.abspath, gt)"
   ]
  },
  {
   "cell_type": "code",
   "execution_count": 3,
   "metadata": {
    "collapsed": false
   },
   "outputs": [],
   "source": [
    "# Hyper Params\n",
    "total_patches = 4800\n",
    "num_training_images = None\n",
    "patches_per_image = None\n",
    "patch_dim = 31                          # Dimension of window used for training\n",
    "current_img_index = -1                   # Index of the current image in 'train'\n",
    "current_img = None    \n",
    "current_mask = None\n",
    "current_gt = None\n",
    "positive_proprtion = 0.5\n",
    "\n",
    "df = None"
   ]
  },
  {
   "cell_type": "code",
   "execution_count": 4,
   "metadata": {
    "collapsed": true
   },
   "outputs": [],
   "source": [
    "def load_next_img(data,mask_data,gt_data):\n",
    "    \"\"\"When we have extracted 'PATCHES_PER_IMAGE' number of patches from our \n",
    "       current image we call this function to change the current image\n",
    "       Args:\n",
    "           data: The list of paths to the images\n",
    "           mask_data: List of paths to the corresponding masks of images\n",
    "           gt_data: List of paths to the corresponding ground truth images\n",
    "       \n",
    "    \"\"\"\n",
    "    global current_img_index, current_img, current_mask, current_gt\n",
    "    \n",
    "    if current_img_index < len(data)-1:\n",
    "        current_img_index +=1\n",
    "        print \"Working on image %d\"%(current_img_index + 1)\n",
    "        current_img = io.imread(data[current_img_index])                     \n",
    "        current_mask = img_as_float(io.imread(mask_data[current_img_index])) \n",
    "        current_gt = img_as_float(io.imread(gt_data[current_img_index])) \n",
    "        return True\n",
    "    else:\n",
    "        print 'No more images left in set'\n",
    "        return False"
   ]
  },
  {
   "cell_type": "code",
   "execution_count": 5,
   "metadata": {
    "collapsed": false
   },
   "outputs": [],
   "source": [
    "def save_img_data(data, mask_data, gt_data):\n",
    "    \"\"\"Extracts PATCHES_PER_IMAGE number of patches from each image\n",
    "        \n",
    "       It maintains a count of positive and negative patches and maintains\n",
    "       the ratio POSITIVE_PROPORTION = pos/(pos+neg)\n",
    "       Args:\n",
    "           data: The list of paths to the images\n",
    "           mask_data: List of paths to the corresponding masks of images\n",
    "           gt_data: List of paths to the corresponding ground truth images\n",
    "       \n",
    "    \"\"\"\n",
    "    pos_count = 0\n",
    "    neg_count = 0\n",
    "    global df\n",
    "    while pos_count +neg_count < patches_per_image: \n",
    "        # Choose a random point\n",
    "        i = np.random.randint(patch_dim/2,current_img.shape[0]-patch_dim/2)\n",
    "        j = np.random.randint(patch_dim/2,current_img.shape[1]-patch_dim/2)\n",
    "        h = (patch_dim - 1)/2\n",
    "        if int(np.sum(current_mask[i-h:i+h+1,j-h:j+h+1])/patch_dim**2) == 1:\n",
    "            ind = current_img_index*patches_per_image+pos_count+neg_count\n",
    "            \n",
    "            # If a positive sample is found and positive count hasn't reached its limit\n",
    "            if int(current_gt[i,j])==1 and pos_count < positive_proprtion*patches_per_image:\n",
    "                df.loc[ind][0:-1] = np.reshape(current_img[i-h:i+h+1,j-h:j+h+1], -1)\n",
    "                df.loc[ind][patch_dim**2*3] = int(current_gt[i,j])\n",
    "                pos_count += 1\n",
    "            # If a negative sample is found and negative count hasn't reached its limit\n",
    "            elif int(current_gt[i,j])==0 and neg_count < (1-positive_proprtion)*patches_per_image:\n",
    "                df.loc[ind][0:-1] = np.reshape(current_img[i-h:i+h+1,j-h:j+h+1], -1)\n",
    "                df.loc[ind][patch_dim**2*3] = int(current_gt[i,j])\n",
    "                neg_count += 1"
   ]
  },
  {
   "cell_type": "code",
   "execution_count": 6,
   "metadata": {
    "collapsed": true
   },
   "outputs": [],
   "source": [
    "def finish_parsing():\n",
    "    parser = argparse.ArgumentParser(description=\n",
    "                                     'Python script to save window patches for training')\n",
    "    parser.add_argument(\"--total_patches\", type=int,\n",
    "                        help=\"Total number of training images/patches to be used [Default - 4800]\")\n",
    "    parser.add_argument(\"--patch_dim\", type=int,\n",
    "                        help=\"Dimension of window to be used as a training patch [Default - 31]\")\n",
    "    parser.add_argument(\"--positive\", type=float,\n",
    "                        help=\"Proportion of positive classes to be kept in training data [Default - 0.5]\")\n",
    "      \n",
    "    args = parser.parse_args()\n",
    "    \n",
    "    global total_patches, patch_dim, positive_proprtion\n",
    "    if args.total_patches is not None:\n",
    "        total_patches = args.total_patches\n",
    "        print \"New total patches = %d\" % total_patches\n",
    "    if args.patch_dim is not None:\n",
    "        patch_dim = args.patch_dim\n",
    "        print \"New patch_dim = %d\" % patch_dim\n",
    "    if args.positive is not None:\n",
    "        positive_proprtion = args.positive\n",
    "        print \"New positive_proprtion = %.2f\" % positive_proprtion\n",
    "    "
   ]
  },
  {
   "cell_type": "code",
   "execution_count": 7,
   "metadata": {
    "collapsed": true
   },
   "outputs": [],
   "source": [
    "def main():\n",
    "\n",
    "    finish_parsing()\n",
    "    \n",
    "    train, mask_train, gt_train =  get_path('../../Data/DRIVE/training')\n",
    "    test, mask_test, mask_gt = get_path('../../Data/DRIVE/test')\n",
    "    \n",
    "    # Redefining some hyperparams and global variables\n",
    "    global num_training_images, patches_per_image, current_img, current_mask, current_gt\n",
    "    num_training_images = len(train)\n",
    "    patches_per_image = total_patches/num_training_images\n",
    "    current_img = io.imread(train[0])    \n",
    "    current_mask = img_as_float(io.imread(mask_train[0]))\n",
    "    current_gt = img_as_float(io.imread(gt_train[0]))\n",
    "\n",
    "    begin = time.time()\n",
    "    print \"Creating DataFrame\"\n",
    "    global df\n",
    "    df = pd.DataFrame(index=np.arange(total_patches), columns = np.arange(patch_dim**2*3+1))\n",
    "    print \"Dataframe ready\"\n",
    "\n",
    "    while load_next_img(train, mask_train, gt_train):\n",
    "        start = time.time()\n",
    "        save_img_data(train,mask_train, gt_train)\n",
    "        print \"Time taken for this image = %f secs\" %( (time.time()-start))\n",
    "\n",
    "    print \"\\nMean Normalising\\n\"\n",
    "    last = len(df.columns) -1\n",
    "    mean_img = np.mean(df)[:-1]\n",
    "    labels = df[last]\n",
    "    mean_normalised_df = df - np.mean(df)\n",
    "    mean_normalised_df[last] = labels\n",
    "\n",
    "    print \"Randomly shuffling the datasets\\n\"\n",
    "    mean_normalised_df = mean_normalised_df.iloc[np.random.permutation(len(df))]\n",
    "    mean_normalised_df = mean_normalised_df.reset_index(drop=True)\n",
    "\n",
    "    print \"Writing to pickle\\n\"\n",
    "    mean_normalised_df.to_pickle('../../Data/mean_normalised_df_no_class_bias.pkl')\n",
    "    mean_img.to_pickle('../../Data/mean_img_no_class_bias.pkl')\n",
    "\n",
    "    print \"Total time taken = %f mins\\n\" %( (time.time()-begin)/60.0)"
   ]
  },
  {
   "cell_type": "code",
   "execution_count": 8,
   "metadata": {
    "collapsed": false
   },
   "outputs": [
    {
     "name": "stdout",
     "output_type": "stream",
     "text": [
      "New total patches = 3000\n",
      "Creating DataFrame\n",
      "Dataframe ready\n",
      "Working on image 1\n",
      "Time taken for this image = 0.095596 secs\n",
      "Working on image 2\n",
      "Time taken for this image = 0.087083 secs\n",
      "Working on image 3\n",
      "Time taken for this image = 0.096429 secs\n",
      "Working on image 4\n",
      "Time taken for this image = 0.085965 secs\n",
      "Working on image 5\n",
      "Time taken for this image = 0.091146 secs\n",
      "Working on image 6\n",
      "Time taken for this image = 0.089588 secs\n",
      "Working on image 7\n",
      "Time taken for this image = 0.091107 secs\n",
      "Working on image 8\n",
      "Time taken for this image = 0.091986 secs\n",
      "Working on image 9\n",
      "Time taken for this image = 0.179963 secs\n",
      "Working on image 10\n",
      "Time taken for this image = 0.196373 secs\n",
      "Working on image 11\n",
      "Time taken for this image = 0.202149 secs\n",
      "Working on image 12\n",
      "Time taken for this image = 0.129593 secs\n",
      "Working on image 13\n",
      "Time taken for this image = 0.092147 secs\n",
      "Working on image 14\n",
      "Time taken for this image = 0.087060 secs\n",
      "Working on image 15\n",
      "Time taken for this image = 0.087276 secs\n",
      "Working on image 16\n",
      "Time taken for this image = 0.085490 secs\n",
      "Working on image 17\n",
      "Time taken for this image = 0.176709 secs\n",
      "Working on image 18\n",
      "Time taken for this image = 0.136276 secs\n",
      "Working on image 19\n",
      "Time taken for this image = 0.090537 secs\n",
      "Working on image 20\n",
      "Time taken for this image = 0.091870 secs\n",
      "No more images left in set\n",
      "\n",
      "Mean Normalising\n",
      "\n",
      "Randomly shuffling the datasets\n",
      "\n",
      "Writing to pickle\n",
      "\n",
      "Total time taken = 0.124066 mins\n",
      "\n"
     ]
    },
    {
     "name": "stderr",
     "output_type": "stream",
     "text": [
      "/home/ankush/anaconda2/lib/python2.7/site-packages/skimage/external/tifffile/tifffile.py:1794: RuntimeWarning: py_decodelzw encountered unexpected end of stream\n",
      "  strip = decompress(strip)\n"
     ]
    }
   ],
   "source": [
    "if __name__ == \"__main__\":\n",
    "    sys.argv = ['Preprocessor.py','--total_patches','3000']\n",
    "    main()"
   ]
  }
 ],
 "metadata": {
  "kernelspec": {
   "display_name": "Python 2",
   "language": "python",
   "name": "python2"
  },
  "language_info": {
   "codemirror_mode": {
    "name": "ipython",
    "version": 2
   },
   "file_extension": ".py",
   "mimetype": "text/x-python",
   "name": "python",
   "nbconvert_exporter": "python",
   "pygments_lexer": "ipython2",
   "version": "2.7.11"
  }
 },
 "nbformat": 4,
 "nbformat_minor": 0
}
