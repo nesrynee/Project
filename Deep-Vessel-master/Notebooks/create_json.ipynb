{
 "cells": [
  {
   "cell_type": "code",
   "execution_count": 31,
   "metadata": {
    "collapsed": true
   },
   "outputs": [],
   "source": [
    "import os\n",
    "import json\n",
    "from pprint import pprint"
   ]
  },
  {
   "cell_type": "code",
   "execution_count": 49,
   "metadata": {
    "collapsed": false
   },
   "outputs": [],
   "source": [
    "\"\"\" Our convolutional neural networks are combined in an ensemble of 13 networks to\n",
    "    improve accuracy. The 13 models are run with different sets of parameters. This \n",
    "    program creates a json dump containing all the arguments to be passed to the \n",
    "    13 models, which the user can change from the json file later\n",
    "\"\"\"\n",
    "MAX_MODELS = 13\n",
    "d = {\n",
    "    '--batch': '64',\n",
    "    '--fchu1': '128',\n",
    "    '--learning_rate': '5e-4',\n",
    "    '--training_prop': '0.9',\n",
    "    '--max_steps': '20',\n",
    "    '--checkpoint_step': '10',\n",
    "    '--loss_step': '2',\n",
    "    '--keep_prob': '0.6',\n",
    "    '--model_name': '3'\n",
    "    }\n",
    "params_list = [d for i in range(MAX_MODELS)]\n",
    "for i in range(MAX_MODELS):\n",
    "    tmp = params_list[i].copy()\n",
    "    tmp['--model_name'] = str(i+1)\n",
    "    params_list[i] = tmp"
   ]
  },
  {
   "cell_type": "code",
   "execution_count": 50,
   "metadata": {
    "collapsed": false
   },
   "outputs": [
    {
     "name": "stdout",
     "output_type": "stream",
     "text": [
      "[{'--batch': '64',\n",
      "  '--checkpoint_step': '10',\n",
      "  '--fchu1': '128',\n",
      "  '--keep_prob': '0.6',\n",
      "  '--learning_rate': '5e-4',\n",
      "  '--loss_step': '2',\n",
      "  '--max_steps': '20',\n",
      "  '--model_name': '1',\n",
      "  '--training_prop': '0.9'},\n",
      " {'--batch': '64',\n",
      "  '--checkpoint_step': '10',\n",
      "  '--fchu1': '128',\n",
      "  '--keep_prob': '0.6',\n",
      "  '--learning_rate': '5e-4',\n",
      "  '--loss_step': '2',\n",
      "  '--max_steps': '20',\n",
      "  '--model_name': '2',\n",
      "  '--training_prop': '0.9'},\n",
      " {'--batch': '64',\n",
      "  '--checkpoint_step': '10',\n",
      "  '--fchu1': '128',\n",
      "  '--keep_prob': '0.6',\n",
      "  '--learning_rate': '5e-4',\n",
      "  '--loss_step': '2',\n",
      "  '--max_steps': '20',\n",
      "  '--model_name': '3',\n",
      "  '--training_prop': '0.9'}]\n"
     ]
    }
   ],
   "source": [
    "pprint(params_list[:3])"
   ]
  },
  {
   "cell_type": "code",
   "execution_count": 53,
   "metadata": {
    "collapsed": true
   },
   "outputs": [],
   "source": [
    "\"\"\"We make a directory to store these JSON files. The user can make his/her custom \n",
    "    arg list by copying one of these JSON files and editing it\n",
    "\"\"\"\n",
    "args_path = os.path.abspath(\"../arglists\")\n",
    "if not os.path.exists(args_path):\n",
    "    os.mkdir(args_path)\n",
    "with open(args_path+'/cl_args.json', 'w') as outfile:\n",
    "    json.dump(params_list, outfile, separators=(',',': '), indent = 4)"
   ]
  }
 ],
 "metadata": {
  "kernelspec": {
   "display_name": "Python 2",
   "language": "python",
   "name": "python2"
  },
  "language_info": {
   "codemirror_mode": {
    "name": "ipython",
    "version": 2
   },
   "file_extension": ".py",
   "mimetype": "text/x-python",
   "name": "python",
   "nbconvert_exporter": "python",
   "pygments_lexer": "ipython2",
   "version": "2.7.11"
  }
 },
 "nbformat": 4,
 "nbformat_minor": 0
}
