{
 "cells": [
  {
   "cell_type": "code",
   "execution_count": null,
   "metadata": {
    "collapsed": true
   },
   "outputs": [],
   "source": [
    "import os\n",
    "import json\n",
    "import sys\n",
    "import argparse"
   ]
  },
  {
   "cell_type": "code",
   "execution_count": null,
   "metadata": {
    "collapsed": true
   },
   "outputs": [],
   "source": [
    "ARGS_PATH = os.path.abspath(\"../arglists/cl_args.json\")"
   ]
  },
  {
   "cell_type": "code",
   "execution_count": null,
   "metadata": {
    "collapsed": false
   },
   "outputs": [],
   "source": [
    "def load_json(json_path):\n",
    "    \"\"\"Loads a json file with user defined arguments for all models\n",
    "        \n",
    "        Args:\n",
    "            json_path: Input filepath\n",
    "        Output:\n",
    "            List of dictionaries, each dictionary representing parameters for\n",
    "            each model\n",
    "    \n",
    "    \"\"\"\n",
    "    if not os.path.exists(json_path):\n",
    "        print \"No json file found\"\n",
    "\n",
    "    with open(json_path, 'r') as infile:\n",
    "        return json.load(infile)"
   ]
  },
  {
   "cell_type": "code",
   "execution_count": null,
   "metadata": {
    "collapsed": false
   },
   "outputs": [],
   "source": [
    "def get_args(model):\n",
    "    \"\"\"Parses a model's parameters from a dictionary\n",
    "        \n",
    "        Args:\n",
    "            model: Dictionary containing parameters of one model\n",
    "        Output:\n",
    "            args: Exact command line call to be used\n",
    "\n",
    "    \"\"\"\n",
    "    args = 'python '+os.path.abspath('../Scripts/v2_graph.py')\n",
    "    for key in model.keys():\n",
    "        args = args + ' ' + str(key) + ' ' + str(model[key])\n",
    "    return args"
   ]
  },
  {
   "cell_type": "code",
   "execution_count": null,
   "metadata": {
    "collapsed": true
   },
   "outputs": [],
   "source": [
    "def finish_parsing():\n",
    "    global ARGS_PATH\n",
    "    parser = argparse.ArgumentParser(description=\n",
    "                                     'Training an ensemble of convnets')\n",
    "    parser.add_argument(\"--a\",\n",
    "                        help=\"Path to JSON file containing model arguments\")\n",
    "    args = parser.parse_args()\n",
    "    if args.a is not None:\n",
    "        ARGS_PATH = os.path.abspath(args.a)\n",
    "        print \"New ARGS_PATH = %s\" % ARGS_PATH"
   ]
  },
  {
   "cell_type": "code",
   "execution_count": null,
   "metadata": {
    "collapsed": true
   },
   "outputs": [],
   "source": [
    "def main():\n",
    "    finish_parsing()\n",
    "    models = load_json(ARGS_PATH) \n",
    "    for m in models:\n",
    "        print '--'*30\n",
    "        print 'Beginning training for Model '+m['--model_name'] +'\\n'\n",
    "        arg_list = get_args(m)\n",
    "        print arg_list\n",
    "        # The following doesn't work in Notebook but in script\n",
    "        os.system(arg_list)"
   ]
  },
  {
   "cell_type": "code",
   "execution_count": null,
   "metadata": {
    "collapsed": false
   },
   "outputs": [],
   "source": [
    "if __name__ == \"__main__\":\n",
    "    sys.argv = ['train_ensemble.py', '--a', '../arglists/cl_args.json']\n",
    "    main()"
   ]
  }
 ],
 "metadata": {
  "kernelspec": {
   "display_name": "Python 2",
   "language": "python",
   "name": "python2"
  },
  "language_info": {
   "codemirror_mode": {
    "name": "ipython",
    "version": 2
   },
   "file_extension": ".py",
   "mimetype": "text/x-python",
   "name": "python",
   "nbconvert_exporter": "python",
   "pygments_lexer": "ipython2",
   "version": "2.7.11"
  }
 },
 "nbformat": 4,
 "nbformat_minor": 0
}
