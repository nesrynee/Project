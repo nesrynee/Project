{
 "cells": [
  {
   "cell_type": "code",
   "execution_count": 1,
   "metadata": {
    "collapsed": true
   },
   "outputs": [],
   "source": [
    "import numpy as np \n",
    "import matplotlib as mp\n",
    "import matplotlib.pyplot as plt\n",
    "import tensorflow as tf\n",
    "from tensorflow.contrib.layers.python.layers import batch_norm\n",
    "import pandas as pd\n",
    "from skimage import img_as_float, img_as_uint"
   ]
  },
  {
   "cell_type": "code",
   "execution_count": 2,
   "metadata": {
    "collapsed": true
   },
   "outputs": [],
   "source": [
    "data = None\n",
    "mean_img = None\n",
    "\n",
    "# Hyper Params\n",
    "TOTAL_PATCHES = None\n",
    "NUM_IMAGES = None\n",
    "PATCHES_PER_IMAGE = None\n",
    "PATCH_DIM = 31\n",
    "BATCH_SIZE = 1\n",
    "LEARNING_RATE = 5e-4\n",
    "TRAINING_PROP = 0.9\n",
    "MAX_STEPS = 125\n",
    "CKPT_STEP = 40\n",
    "LOSS_STEP = 2\n",
    "KEEP_PROB = 0.6\n",
    "NUM_CLASSES = 2\n",
    "FCHU1 = 256               # Fully connected layer 1 hidden units\n",
    "MODEL_NAME = '19'\n",
    "MODEL_PATH = '../../Data/models/model19/model.ckpt-5399'"
   ]
  },
  {
   "cell_type": "code",
   "execution_count": 3,
   "metadata": {
    "collapsed": true
   },
   "outputs": [],
   "source": [
    "def batch_norm_layer(x,train_phase,scope_bn):\n",
    "    \"\"\"Adds a Batch Normalization layer from http://arxiv.org/abs/1502.03167.\n",
    "        \"Batch Normalization: Accelerating Deep Network Training by Reducing\n",
    "        Internal Covariate Shift\"\n",
    "        Sergey Ioffe, Christian Szegedy\n",
    "      Can be used as a normalizer function for conv2d and fully_connected.\n",
    "    \"\"\"\n",
    "    \n",
    "    bn_train = batch_norm(x, decay=0.999, center=True, scale=True, updates_collections=None,\n",
    "    is_training=True, reuse=None, # is this right?\n",
    "    trainable=True, scope=scope_bn)\n",
    "    \n",
    "    bn_inference = batch_norm(x, decay=0.999, center=True, scale=True, updates_collections=None,\n",
    "    is_training=False, reuse=True, # is this right?\n",
    "    trainable=True, scope=scope_bn)\n",
    "    \n",
    "    z = tf.cond(train_phase, lambda: bn_train, lambda: bn_inference)\n",
    "    return z\n"
   ]
  },
  {
   "cell_type": "code",
   "execution_count": 4,
   "metadata": {
    "collapsed": true
   },
   "outputs": [],
   "source": [
    "def placeholder_inputs(batch_size):\n",
    "    \"\"\"Generate placeholder variables to represent the input tensors.\n",
    "    \n",
    "    These placeholders are used as inputs by the rest of the model building\n",
    "    code and will be fed from the downloaded data in the .run() loop, below.\n",
    "    Args:\n",
    "        batch_size: The batch size will be baked into both placeholders.\n",
    "    Returns:\n",
    "        images_placeholder: Images placeholder.\n",
    "        labels_placeholder: Labels placeholder.\n",
    "    \"\"\"\n",
    "    # Note that the shapes of the placeholders match the shapes of the full\n",
    "    # image and label tensors, except the first dimension is now batch_size\n",
    "    # rather than the full size of the train or test data sets.\n",
    "    images_placeholder = tf.placeholder(tf.float32, shape=(batch_size, PATCH_DIM**2*3))\n",
    "    labels_placeholder = tf.placeholder(tf.int32, shape=(batch_size, NUM_CLASSES))\n",
    "    return images_placeholder, labels_placeholder"
   ]
  },
  {
   "cell_type": "code",
   "execution_count": 5,
   "metadata": {
    "collapsed": false
   },
   "outputs": [],
   "source": [
    "data = pd.read_pickle('../../Data/mean_normalised_df_no_class_bias.pkl') \n",
    "mean_img = pd.read_pickle('../../Data/mean_img_no_class_bias.pkl')\n",
    "\n",
    "TOTAL_PATCHES = len(data)\n",
    "#NUM_IMAGES = len(train)\n",
    "#PATCHES_PER_IMAGE = TOTAL_PATCHES/NUM_IMAGES\n",
    "PATCH_DIM = int(np.sqrt((len(data.columns)-1)/3))\n",
    "    \n",
    "\n",
    "images, labels_placeholder = placeholder_inputs(BATCH_SIZE)\n",
    "keep_prob = tf.placeholder(tf.float32)\n",
    "train_phase = tf.placeholder(tf.bool)\n",
    "\n",
    "\n",
    "#---------------------------Inference------------------------------------\n",
    "with tf.variable_scope('h_conv1') as scope:\n",
    "        weights = tf.get_variable('weights', shape=[4, 4, 3, 64], \n",
    "                                  initializer=tf.contrib.layers.xavier_initializer_conv2d())\n",
    "        biases = tf.get_variable('biases', shape=[64], initializer=tf.constant_initializer(0.05))\n",
    "        \n",
    "        x_image = tf.reshape(images, [-1,PATCH_DIM,PATCH_DIM,3])\n",
    "        x_image_bn = batch_norm_layer(x_image, train_phase, scope.name)\n",
    "        z = tf.nn.conv2d(x_image_bn, weights, strides=[1, 1, 1, 1], padding='VALID') + biases\n",
    "        h_conv1 = tf.nn.relu(z, name=scope.name)\n",
    "        \n",
    "with tf.variable_scope('h_conv2') as scope:\n",
    "        weights = tf.get_variable('weights', shape=[4, 4, 64, 64], \n",
    "                                  initializer=tf.contrib.layers.xavier_initializer_conv2d())\n",
    "        biases = tf.get_variable('biases', shape=[64], initializer=tf.constant_initializer(0.05))\n",
    "        h_conv1_bn = batch_norm_layer(h_conv1, train_phase, scope.name)\n",
    "        z = tf.nn.conv2d(h_conv1_bn, weights, strides=[1, 1, 1, 1], padding='SAME')+biases\n",
    "        h_conv2 = tf.nn.relu(z, name=scope.name)\n",
    "    \n",
    "h_pool1 = tf.nn.max_pool(h_conv2, ksize=[1, 2, 2, 1],\n",
    "                        strides=[1, 2, 2, 1], padding='SAME', name='h_pool1')\n",
    "    \n",
    "with tf.variable_scope('h_conv3') as scope:\n",
    "        weights = tf.get_variable('weights', shape=[4, 4, 64, 64], \n",
    "                                  initializer=tf.contrib.layers.xavier_initializer_conv2d())\n",
    "        biases = tf.get_variable('biases', shape=[64], initializer=tf.constant_initializer(0.05))\n",
    "        h_pool1_bn = batch_norm_layer(h_pool1, train_phase, scope.name)\n",
    "        z = tf.nn.conv2d(h_pool1_bn, weights, strides=[1, 1, 1, 1], padding='SAME')+biases\n",
    "        h_conv3 = tf.nn.relu(z, name=scope.name)\n",
    "        \n",
    "h_pool2 = tf.nn.max_pool(h_conv3, ksize=[1, 2, 2, 1],\n",
    "                        strides=[1, 2, 2, 1], padding='SAME', name='h_pool2')    \n",
    "    \n",
    "with tf.variable_scope('h_fc1') as scope:\n",
    "        weights = tf.get_variable('weights', shape=[7**2*64, FCHU1], \n",
    "                                  initializer=tf.contrib.layers.xavier_initializer())\n",
    "        biases = tf.get_variable('biases', shape=[FCHU1], initializer=tf.constant_initializer(0.05))\n",
    "        h_pool2_flat = tf.reshape(h_pool2, [-1, 7*7*64])\n",
    "        #h_pool2_flat_bn = batch_norm_layer(h_pool2_flat, train_phase, scope.name)\n",
    "        h_fc1 = tf.nn.relu(tf.matmul(h_pool2_flat, weights) + biases, name = 'h_fc1')\n",
    "        h_fc1_drop = tf.nn.dropout(h_fc1, keep_prob)\n",
    "        \n",
    "with tf.variable_scope('h_fc2') as scope:\n",
    "        weights = tf.get_variable('weights', shape=[FCHU1, NUM_CLASSES], \n",
    "                                  initializer=tf.contrib.layers.xavier_initializer())\n",
    "        biases = tf.get_variable('biases', shape=[NUM_CLASSES])\n",
    "        #h_fc1_drop_bn = batch_norm_layer(h_fc1, train_phase, scope.name)\n",
    "        logits = (tf.matmul(h_fc1_drop, weights) + biases)\n",
    "#--------------------------------------------------------------------------------\n",
    "        "
   ]
  },
  {
   "cell_type": "code",
   "execution_count": 6,
   "metadata": {
    "collapsed": true
   },
   "outputs": [],
   "source": [
    "saver = tf.train.Saver()\n",
    "\n",
    "# Create a session for running Ops on the Graph.\n",
    "sess = tf.Session()\n",
    "saver.restore(sess, MODEL_PATH)\n"
   ]
  },
  {
   "cell_type": "code",
   "execution_count": 8,
   "metadata": {
    "collapsed": true
   },
   "outputs": [],
   "source": [
    "def getActivations(layer,stimuli):\n",
    "    units = layer.eval(session=sess,\n",
    "                       feed_dict={images:stimuli, keep_prob:1.0, train_phase:False})\n",
    "    plotNNFilter(units)\n",
    "    \n",
    "def plotNNFilter(units):\n",
    "    filters = units.shape[3]\n",
    "    plt.figure(1, figsize=(20,20))\n",
    "    for i in xrange(0,filters):\n",
    "        plt.subplot(8,8,i+1)\n",
    "        plt.title('Filter ' + str(i))\n",
    "        plt.imshow(units[0,:,:,i], interpolation=\"nearest\", cmap=\"gray\")\n",
    "    plt.show()"
   ]
  },
  {
   "cell_type": "code",
   "execution_count": 17,
   "metadata": {
    "collapsed": false
   },
   "outputs": [],
   "source": [
    "imageToUse_flat = np.zeros((1,PATCH_DIM**2*3), dtype = 'uint8')\n",
    "imageToUse_flat[0] = np.array(data.iloc[1][:-1] + mean_img, dtype='uint8')"
   ]
  },
  {
   "cell_type": "code",
   "execution_count": 18,
   "metadata": {
    "collapsed": false
   },
   "outputs": [],
   "source": [
    "imageToUse = img_as_float(np.reshape(imageToUse_flat[0], [PATCH_DIM,PATCH_DIM,3]))\n"
   ]
  },
  {
   "cell_type": "code",
   "execution_count": 19,
   "metadata": {
    "collapsed": false
   },
   "outputs": [],
   "source": [
    "plt.imshow(imageToUse)\n",
    "plt.show()"
   ]
  },
  {
   "cell_type": "code",
   "execution_count": 23,
   "metadata": {
    "collapsed": false
   },
   "outputs": [],
   "source": [
    "getActivations(h_conv3,imageToUse_flat)"
   ]
  },
  {
   "cell_type": "code",
   "execution_count": null,
   "metadata": {
    "collapsed": true
   },
   "outputs": [],
   "source": []
  }
 ],
 "metadata": {
  "kernelspec": {
   "display_name": "Python 2",
   "language": "python",
   "name": "python2"
  },
  "language_info": {
   "codemirror_mode": {
    "name": "ipython",
    "version": 2
   },
   "file_extension": ".py",
   "mimetype": "text/x-python",
   "name": "python",
   "nbconvert_exporter": "python",
   "pygments_lexer": "ipython2",
   "version": "2.7.11"
  }
 },
 "nbformat": 4,
 "nbformat_minor": 0
}
